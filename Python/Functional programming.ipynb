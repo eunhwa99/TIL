{
 "cells": [
  {
   "cell_type": "code",
   "execution_count": null,
   "id": "temporal-medline",
   "metadata": {},
   "outputs": [],
   "source": [
    "'''\n",
    "Functional programming: \n",
    "1. lambda\n",
    "- basic syntax\n",
    "\n",
    "2. Map\n",
    "- map using normal functions\n",
    "- map using lambda\n",
    "- map using lambda, multiple inputs\n",
    "\n",
    "3. Filter\n",
    "\n",
    "4. Generator\n",
    "- yield & next: local variable stored and just pause\n",
    "'''"
   ]
  },
  {
   "cell_type": "code",
   "execution_count": 1,
   "id": "welsh-personal",
   "metadata": {},
   "outputs": [],
   "source": [
    "# lambda\n",
    "lam_func=lambda x:x+3 "
   ]
  },
  {
   "cell_type": "code",
   "execution_count": 2,
   "id": "north-steel",
   "metadata": {},
   "outputs": [
    {
     "data": {
      "text/plain": [
       "13"
      ]
     },
     "execution_count": 2,
     "metadata": {},
     "output_type": "execute_result"
    }
   ],
   "source": [
    "lam_func(10)"
   ]
  },
  {
   "cell_type": "code",
   "execution_count": 3,
   "id": "false-receiver",
   "metadata": {},
   "outputs": [],
   "source": [
    "my_lambda=lambda name: 'Hello there, {}. How are you?'.format(name)"
   ]
  },
  {
   "cell_type": "code",
   "execution_count": 4,
   "id": "cloudy-billion",
   "metadata": {},
   "outputs": [
    {
     "data": {
      "text/plain": [
       "'Hello there, Jon. How are you?'"
      ]
     },
     "execution_count": 4,
     "metadata": {},
     "output_type": "execute_result"
    }
   ],
   "source": [
    "my_lambda('Jon')"
   ]
  },
  {
   "cell_type": "code",
   "execution_count": null,
   "id": "ahead-atlanta",
   "metadata": {},
   "outputs": [],
   "source": []
  },
  {
   "cell_type": "code",
   "execution_count": null,
   "id": "indoor-science",
   "metadata": {},
   "outputs": [],
   "source": []
  },
  {
   "cell_type": "code",
   "execution_count": 6,
   "id": "collectible-lambda",
   "metadata": {},
   "outputs": [],
   "source": [
    "# Map\n",
    "list_of_nums=[1,10,100,1000,2000]\n",
    "list_of_large_nums=[]\n",
    "list_of_divided_nums=[]"
   ]
  },
  {
   "cell_type": "code",
   "execution_count": 8,
   "id": "behind-eclipse",
   "metadata": {},
   "outputs": [],
   "source": [
    "for i in list_of_nums:\n",
    "    new=i*1000\n",
    "    list_of_large_nums.append(i)\n",
    "# map(name of the function, name of list)"
   ]
  },
  {
   "cell_type": "code",
   "execution_count": 9,
   "id": "advanced-order",
   "metadata": {},
   "outputs": [],
   "source": [
    "def divider(x):\n",
    "    y=x/5\n",
    "    return y"
   ]
  },
  {
   "cell_type": "code",
   "execution_count": 13,
   "id": "identified-location",
   "metadata": {},
   "outputs": [],
   "source": [
    "list_of_divided_nums=list(map(divider, list_of_nums)) #list로 변환!"
   ]
  },
  {
   "cell_type": "code",
   "execution_count": 14,
   "id": "disturbed-attitude",
   "metadata": {},
   "outputs": [
    {
     "data": {
      "text/plain": [
       "[0.2, 2.0, 20.0, 200.0, 400.0]"
      ]
     },
     "execution_count": 14,
     "metadata": {},
     "output_type": "execute_result"
    }
   ],
   "source": [
    "list_of_divided_nums"
   ]
  },
  {
   "cell_type": "code",
   "execution_count": null,
   "id": "alternate-tutorial",
   "metadata": {},
   "outputs": [],
   "source": []
  },
  {
   "cell_type": "code",
   "execution_count": 16,
   "id": "applied-legend",
   "metadata": {},
   "outputs": [
    {
     "data": {
      "text/plain": [
       "[10, 11, 12, 13, 14, 15]"
      ]
     },
     "execution_count": 16,
     "metadata": {},
     "output_type": "execute_result"
    }
   ],
   "source": [
    "# using lambda\n",
    "old_nums=[1,2,3,4,5,6]\n",
    "new_nums=list(map(lambda x:x+9, old_nums))\n",
    "new_nums"
   ]
  },
  {
   "cell_type": "code",
   "execution_count": 17,
   "id": "electric-mercy",
   "metadata": {},
   "outputs": [
    {
     "data": {
      "text/plain": [
       "(2000, 4000, 6000, 8000, 10000)"
      ]
     },
     "execution_count": 17,
     "metadata": {},
     "output_type": "execute_result"
    }
   ],
   "source": [
    "num_tuple={2,4,6,8,10}\n",
    "new_tuple=tuple(map(lambda num:num*1000, num_tuple))\n",
    "new_tuple"
   ]
  },
  {
   "cell_type": "code",
   "execution_count": null,
   "id": "complete-landing",
   "metadata": {},
   "outputs": [],
   "source": []
  },
  {
   "cell_type": "code",
   "execution_count": 19,
   "id": "spare-tribute",
   "metadata": {},
   "outputs": [
    {
     "data": {
      "text/plain": [
       "[301, 402, 503, 604]"
      ]
     },
     "execution_count": 19,
     "metadata": {},
     "output_type": "execute_result"
    }
   ],
   "source": [
    "# multiple inputs\n",
    "list_one=[1,2,3,4,5]\n",
    "list_two=[300,400,500,600]\n",
    "\n",
    "list_three=list(map(lambda x,y : x+y, list_one, list_two))\n",
    "list_three"
   ]
  },
  {
   "cell_type": "code",
   "execution_count": null,
   "id": "hispanic-worth",
   "metadata": {},
   "outputs": [],
   "source": []
  },
  {
   "cell_type": "code",
   "execution_count": null,
   "id": "front-design",
   "metadata": {},
   "outputs": [],
   "source": []
  },
  {
   "cell_type": "code",
   "execution_count": 20,
   "id": "similar-package",
   "metadata": {},
   "outputs": [],
   "source": [
    "# filter\n",
    "my_list=[1,14,53,72,22,99]"
   ]
  },
  {
   "cell_type": "code",
   "execution_count": 21,
   "id": "social-batch",
   "metadata": {},
   "outputs": [
    {
     "data": {
      "text/plain": [
       "[53, 72, 99]"
      ]
     },
     "execution_count": 21,
     "metadata": {},
     "output_type": "execute_result"
    }
   ],
   "source": [
    "filtered_list=list(filter(lambda x:x>=50, my_list))\n",
    "filtered_list"
   ]
  },
  {
   "cell_type": "code",
   "execution_count": 22,
   "id": "sacred-composer",
   "metadata": {},
   "outputs": [
    {
     "data": {
      "text/plain": [
       "['John', 'Phil', 'Joe']"
      ]
     },
     "execution_count": 22,
     "metadata": {},
     "output_type": "execute_result"
    }
   ],
   "source": [
    "names_list = ['John', 'Phil', 'Joe', 'Marieend', 'Jackie', 'Bruce', 'Mindy']\n",
    "\n",
    "short_names = list(filter(lambda x:len(x)<=4, names_list))\n",
    "short_names"
   ]
  },
  {
   "cell_type": "code",
   "execution_count": null,
   "id": "empty-greece",
   "metadata": {},
   "outputs": [],
   "source": []
  },
  {
   "cell_type": "code",
   "execution_count": null,
   "id": "ahead-update",
   "metadata": {},
   "outputs": [],
   "source": []
  },
  {
   "cell_type": "code",
   "execution_count": 23,
   "id": "excited-hollow",
   "metadata": {},
   "outputs": [],
   "source": [
    "#Generator = yield instead of return, Return terminates Local variables, yield 'pauses'\n",
    "\n",
    "def a():\n",
    "    x=5\n",
    "    yield x\n",
    "    \n",
    "    x+=1\n",
    "    yield x"
   ]
  },
  {
   "cell_type": "code",
   "execution_count": 24,
   "id": "changing-leather",
   "metadata": {},
   "outputs": [],
   "source": [
    "example=a()"
   ]
  },
  {
   "cell_type": "code",
   "execution_count": 25,
   "id": "damaged-douglas",
   "metadata": {},
   "outputs": [
    {
     "data": {
      "text/plain": [
       "5"
      ]
     },
     "execution_count": 25,
     "metadata": {},
     "output_type": "execute_result"
    }
   ],
   "source": [
    "next(example)"
   ]
  },
  {
   "cell_type": "code",
   "execution_count": 26,
   "id": "original-advantage",
   "metadata": {},
   "outputs": [
    {
     "data": {
      "text/plain": [
       "6"
      ]
     },
     "execution_count": 26,
     "metadata": {},
     "output_type": "execute_result"
    }
   ],
   "source": [
    "next(example)"
   ]
  },
  {
   "cell_type": "code",
   "execution_count": 27,
   "id": "alike-humidity",
   "metadata": {},
   "outputs": [
    {
     "ename": "StopIteration",
     "evalue": "",
     "output_type": "error",
     "traceback": [
      "\u001b[1;31m---------------------------------------------------------------------------\u001b[0m",
      "\u001b[1;31mStopIteration\u001b[0m                             Traceback (most recent call last)",
      "\u001b[1;32m<ipython-input-27-97e2c1edb50b>\u001b[0m in \u001b[0;36m<module>\u001b[1;34m\u001b[0m\n\u001b[1;32m----> 1\u001b[1;33m \u001b[0mnext\u001b[0m\u001b[1;33m(\u001b[0m\u001b[0mexample\u001b[0m\u001b[1;33m)\u001b[0m\u001b[1;33m\u001b[0m\u001b[1;33m\u001b[0m\u001b[0m\n\u001b[0m",
      "\u001b[1;31mStopIteration\u001b[0m: "
     ]
    }
   ],
   "source": [
    "next(example)"
   ]
  }
 ],
 "metadata": {
  "kernelspec": {
   "display_name": "Python 3",
   "language": "python",
   "name": "python3"
  },
  "language_info": {
   "codemirror_mode": {
    "name": "ipython",
    "version": 3
   },
   "file_extension": ".py",
   "mimetype": "text/x-python",
   "name": "python",
   "nbconvert_exporter": "python",
   "pygments_lexer": "ipython3",
   "version": "3.6.12"
  }
 },
 "nbformat": 4,
 "nbformat_minor": 5
}
